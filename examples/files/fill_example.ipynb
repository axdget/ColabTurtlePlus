{
  "nbformat": 4,
  "nbformat_minor": 0,
  "metadata": {
    "colab": {
      "name": "fill_example.ipynb",
      "provenance": [],
      "authorship_tag": "ABX9TyMzXlsGflzKdkIuanVxNzUB",
      "include_colab_link": true
    },
    "kernelspec": {
      "display_name": "Python 3",
      "name": "python3"
    },
    "language_info": {
      "name": "python"
    }
  },
  "cells": [
    {
      "cell_type": "markdown",
      "metadata": {
        "id": "view-in-github",
        "colab_type": "text"
      },
      "source": [
        "<a href=\"https://colab.research.google.com/github/mathriddle/ColabTurtlePlus/blob/main/examples/files/fill_example.ipynb\" target=\"_parent\"><img src=\"https://colab.research.google.com/assets/colab-badge.svg\" alt=\"Open In Colab\"/></a>"
      ]
    },
    {
      "cell_type": "markdown",
      "metadata": {
        "id": "oOmT6u-jTlI6"
      },
      "source": [
        "How to do a fill when you also want to have different colors along the boundary of the object being filled."
      ]
    },
    {
      "cell_type": "code",
      "metadata": {
        "id": "mNDcb4tEl4Xr"
      },
      "source": [
        "!pip install ColabTurtlePlus"
      ],
      "execution_count": null,
      "outputs": []
    },
    {
      "cell_type": "code",
      "metadata": {
        "id": "fDp3eovimAmy"
      },
      "source": [
        "import ColabTurtlePlus.Turtle as T"
      ],
      "execution_count": 2,
      "outputs": []
    },
    {
      "cell_type": "markdown",
      "metadata": {
        "id": "vEnQACygSIB8"
      },
      "source": [
        "Here we draw a square with two sides in red and two sides in blue, then a circle drawn in green. When the fill is done, all the sides and the circle are changed to the last pen color, green."
      ]
    },
    {
      "cell_type": "code",
      "metadata": {
        "id": "2loZU_XvmBTa"
      },
      "source": [
        "T.initializeTurtle((500,500))\n",
        "T.width(5)\n",
        "T.fillcolor(\"yellow\")\n",
        "T.begin_fill()\n",
        "T.pencolor(\"red\")\n",
        "T.forward(200)\n",
        "T.left(90)\n",
        "T.forward(200)\n",
        "T.left(90)\n",
        "T.pencolor(\"blue\")\n",
        "T.forward(200)\n",
        "T.left(90)\n",
        "T.forward(200)\n",
        "T.pencolor(\"green\")\n",
        "T.circle(100)\n",
        "T.end_fill()\n",
        "\n",
        "\n"
      ],
      "execution_count": null,
      "outputs": []
    },
    {
      "cell_type": "markdown",
      "metadata": {
        "id": "_PCoXrtnTHab"
      },
      "source": [
        "So to fix this to keep the original side/circle colors, we do the entire drawing first in one color and with the fill, then return to the starting point and initial heading to repeat the drawing with the desired colors."
      ]
    },
    {
      "cell_type": "code",
      "metadata": {
        "id": "JmhOybcMSATq"
      },
      "source": [
        "T.initializeTurtle((500,500))\n",
        "init_pos = T.pos()\n",
        "init_angle = T.heading()\n",
        "T.width(1)\n",
        "T.fillcolor(\"yellow\")\n",
        "T.begin_fill()\n",
        "T.forward(200)\n",
        "T.left(90)\n",
        "T.forward(200)\n",
        "T.left(90)\n",
        "T.forward(200)\n",
        "T.left(90)\n",
        "T.forward(200)\n",
        "T.circle(100)\n",
        "T.end_fill()\n",
        "T.jumpto(init_pos)\n",
        "T.setheading(init_angle)\n",
        "T.width(5)\n",
        "T.speed(13)\n",
        "T.pencolor(\"red\")\n",
        "T.forward(200)\n",
        "T.left(90)\n",
        "T.forward(200)\n",
        "T.left(90)\n",
        "T.pencolor(\"blue\")\n",
        "T.forward(200)\n",
        "T.left(90)\n",
        "T.forward(200)\n",
        "T.pencolor(\"darkgreen\")\n",
        "T.circle(100)"
      ],
      "execution_count": null,
      "outputs": []
    }
  ]
}