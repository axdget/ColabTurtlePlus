{
  "nbformat": 4,
  "nbformat_minor": 0,
  "metadata": {
    "colab": {
      "name": "yinyang.ipynb",
      "provenance": [],
      "collapsed_sections": [],
      "authorship_tag": "ABX9TyMN2H4ANz7GXjm5Ty/4mneG",
      "include_colab_link": true
    },
    "kernelspec": {
      "name": "python3",
      "display_name": "Python 3"
    },
    "language_info": {
      "name": "python"
    }
  },
  "cells": [
    {
      "cell_type": "markdown",
      "metadata": {
        "id": "view-in-github",
        "colab_type": "text"
      },
      "source": [
        "<a href=\"https://colab.research.google.com/github/mathriddle/ColabTurtlePlus/blob/main/examples/files/yinyang.ipynb\" target=\"_parent\"><img src=\"https://colab.research.google.com/assets/colab-badge.svg\" alt=\"Open In Colab\"/></a>"
      ]
    },
    {
      "cell_type": "markdown",
      "metadata": {
        "id": "ya39lKvZfW9r"
      },
      "source": [
        "Yinyang demo from the turtledemo package in python installation"
      ]
    },
    {
      "cell_type": "code",
      "metadata": {
        "id": "07WhgSGYb3QG"
      },
      "source": [
        "!pip3 install git+https://github.com/mathriddle/ColabTurtlePlus.git@main"
      ],
      "execution_count": null,
      "outputs": []
    },
    {
      "cell_type": "code",
      "metadata": {
        "id": "oPN6jdVWb4Gk"
      },
      "source": [
        "def yin(radius, color1, color2):\n",
        "    width(3)\n",
        "    pencolor(\"black\")\n",
        "    fillcolor(color1)\n",
        "    begin_fill()\n",
        "    circle(radius/2., 180)\n",
        "    circle(radius, 180)\n",
        "    left(180)\n",
        "    circle(-radius/2., 180)\n",
        "    end_fill()\n",
        "    fillcolor(color2)\n",
        "    left(90)\n",
        "    up()\n",
        "    forward(radius*0.375)\n",
        "    right(90)\n",
        "    down()\n",
        "    begin_fill()\n",
        "    circle(radius*0.125)\n",
        "    left(90)\n",
        "    end_fill()\n",
        "    up()\n",
        "    backward(radius*0.375)\n",
        "    down()\n",
        "    left(90)"
      ],
      "execution_count": 10,
      "outputs": []
    },
    {
      "cell_type": "code",
      "metadata": {
        "id": "Kq1FPyksb5GM"
      },
      "source": [
        "from ColabTurtlePlus.Turtle import *\n",
        "initializeTurtle(window=(450,450))\n",
        "speed(8)\n",
        "yin(200, \"white\", \"black\")\n",
        "yin(200, \"black\", \"white\")\n",
        "ht()"
      ],
      "execution_count": null,
      "outputs": []
    }
  ]
}