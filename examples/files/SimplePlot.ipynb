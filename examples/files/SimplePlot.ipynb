{
  "nbformat": 4,
  "nbformat_minor": 0,
  "metadata": {
    "colab": {
      "name": "SimplePlot.ipynb",
      "provenance": [],
      "collapsed_sections": [],
      "authorship_tag": "ABX9TyNbWCwe9uE3HRKs8BCQfIaG",
      "include_colab_link": true
    },
    "kernelspec": {
      "name": "python3",
      "display_name": "Python 3"
    },
    "language_info": {
      "name": "python"
    }
  },
  "cells": [
    {
      "cell_type": "markdown",
      "metadata": {
        "id": "view-in-github",
        "colab_type": "text"
      },
      "source": [
        "<a href=\"https://colab.research.google.com/github/mathriddle/ColabTurtlePlus/blob/main/examples/files/SimplePlot.ipynb\" target=\"_parent\"><img src=\"https://colab.research.google.com/assets/colab-badge.svg\" alt=\"Open In Colab\"/></a>"
      ]
    },
    {
      "cell_type": "markdown",
      "metadata": {
        "id": "i1lIpBaqETXf"
      },
      "source": [
        "A simple plotting demo. (There are, of course, much better modules available for drawing plots!)"
      ]
    },
    {
      "cell_type": "code",
      "metadata": {
        "id": "aCiFiC5td1tn"
      },
      "source": [
        "!pip3 install git+https://github.com/mathriddle/ColabTurtlePlus.git@main"
      ],
      "execution_count": null,
      "outputs": []
    },
    {
      "cell_type": "code",
      "metadata": {
        "id": "ZNbmrFkgd_dI"
      },
      "source": [
        "import ColabTurtlePlus.Turtle as T\n",
        "import math\n",
        "N = 10\n",
        "T.resetwindow()\n",
        "T.initializeTurtle()\n",
        "T.setworldcoordinates(-N,-2,N,2) #place this before initializeTurtle if you want scale the same on both axes\n",
        "T.animationOff()\n",
        "T.speed(10)\n",
        "T.ht()\n",
        "T.drawline(-N,0,N,0)\n",
        "T.drawline(0,-2,0,2)\n",
        "T.jumpto(-N,math.cos(-N))\n",
        "for x in range(0,2*N*10):\n",
        "  T.goto(-N+x/10,math.cos(-N+x/10))\n",
        "\n"
      ],
      "execution_count": null,
      "outputs": []
    }
  ]
}