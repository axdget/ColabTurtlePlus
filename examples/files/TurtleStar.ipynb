{
  "nbformat": 4,
  "nbformat_minor": 0,
  "metadata": {
    "colab": {
      "name": "TurtleStar.ipynb",
      "provenance": [],
      "authorship_tag": "ABX9TyMTYPGqgsUAFrGQjVdKcxU8"
    },
    "kernelspec": {
      "name": "python3",
      "display_name": "Python 3"
    },
    "language_info": {
      "name": "python"
    }
  },
  "cells": [
    {
      "cell_type": "code",
      "metadata": {
        "id": "lDDzZPYZQNXn"
      },
      "source": [
        "!pip install ColabTurtlePlus"
      ],
      "execution_count": null,
      "outputs": []
    },
    {
      "cell_type": "code",
      "metadata": {
        "id": "_TU-pGItQOJi"
      },
      "source": [
        "from ColabTurtlePlus.Turtle import *\n",
        "initializeTurtle(window=(500,300))\n",
        "color('red', 'yellow')\n",
        "speed(10)\n",
        "pu()\n",
        "x0 = -225\n",
        "setx(x0)\n",
        "pd()\n",
        "# first fill uses evenodd fillrule (default)\n",
        "begin_fill()\n",
        "while True:\n",
        "    forward(200)\n",
        "    left(170)\n",
        "    if (getx()-x0)**2 + gety()**2 < 1:\n",
        "        break\n",
        "end_fill()\n",
        "pu()\n",
        "x0 = 25\n",
        "goto(x0,0)\n",
        "setheading(0)\n",
        "pd()\n",
        "# second fill uses nonzero fillrule\n",
        "begin_fill(\"nonzero\")\n",
        "while True:\n",
        "    forward(200)\n",
        "    left(170)\n",
        "    if (getx()-x0)**2 + gety()**2 < 1:\n",
        "        break\n",
        "end_fill()\n",
        "done()"
      ],
      "execution_count": null,
      "outputs": []
    }
  ]
}
