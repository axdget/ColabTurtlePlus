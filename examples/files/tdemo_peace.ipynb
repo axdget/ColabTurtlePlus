{
  "nbformat": 4,
  "nbformat_minor": 0,
  "metadata": {
    "colab": {
      "name": "tdemo_peace.ipynb",
      "provenance": [],
      "collapsed_sections": [],
      "authorship_tag": "ABX9TyOHQfTVzQGUDCMjqAPMJpWn",
      "include_colab_link": true
    },
    "kernelspec": {
      "name": "python3",
      "display_name": "Python 3"
    },
    "language_info": {
      "name": "python"
    }
  },
  "cells": [
    {
      "cell_type": "markdown",
      "metadata": {
        "id": "view-in-github",
        "colab_type": "text"
      },
      "source": [
        "<a href=\"https://colab.research.google.com/github/mathriddle/ColabTurtlePlus/blob/main/examples/files/tdemo_peace.ipynb\" target=\"_parent\"><img src=\"https://colab.research.google.com/assets/colab-badge.svg\" alt=\"Open In Colab\"/></a>"
      ]
    },
    {
      "cell_type": "markdown",
      "metadata": {
        "id": "STu8MIndOAyu"
      },
      "source": [
        "tdemo_peace.py demo from turtle-example-suite in python installation (with a few additions from ColabTurtlePlus)"
      ]
    },
    {
      "cell_type": "code",
      "metadata": {
        "id": "Qlc3LWIcJ4Ge"
      },
      "source": [
        "!pip install ColabTurtlePlus"
      ],
      "execution_count": null,
      "outputs": []
    },
    {
      "cell_type": "code",
      "metadata": {
        "id": "gExYZqLrJ47R"
      },
      "source": [
        "from ColabTurtlePlus.Turtle import *\n",
        "initializeTurtle(window=(800,600))\n",
        "peacecolors = (\"red\",  \"orange\", \"yellow\",\n",
        "                   \"green\", \"darkorchid\",\n",
        "                   \"royalblue\", \"dodgerblue\")\n",
        "speed(8)\n",
        "up()\n",
        "jumpto(-320,-195)\n",
        "width(70)\n",
        "\n",
        "for pcolor in peacecolors:\n",
        "    color(pcolor)\n",
        "    down()\n",
        "    forward(640)\n",
        "    up()\n",
        "    animationOff()\n",
        "    backward(640)\n",
        "    left(90)\n",
        "    forward(66)\n",
        "    right(90)\n",
        "    animationOn()\n",
        "width(25)\n",
        "color(\"white\")\n",
        "jumpto(0,-170)\n",
        "down()\n",
        "\n",
        "circle(170)\n",
        "left(90)\n",
        "forward(340)\n",
        "up()\n",
        "left(180)\n",
        "forward(170)\n",
        "right(45)\n",
        "down()\n",
        "forward(170)\n",
        "up()\n",
        "backward(170)\n",
        "left(90)\n",
        "down()\n",
        "forward(170)\n",
        "up()\n",
        "saveSVG(\"peace\",turtle=False)"
      ],
      "execution_count": null,
      "outputs": []
    }
  ]
}
