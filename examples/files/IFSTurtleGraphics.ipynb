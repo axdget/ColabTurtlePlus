{
  "nbformat": 4,
  "nbformat_minor": 0,
  "metadata": {
    "colab": {
      "name": "IFSTurtleGraphics.ipynb",
      "provenance": [],
      "collapsed_sections": [],
      "authorship_tag": "ABX9TyP+9d3A41vxkhMtHtglddye",
      "include_colab_link": true
    },
    "kernelspec": {
      "name": "python3",
      "display_name": "Python 3"
    }
  },
  "cells": [
    {
      "cell_type": "markdown",
      "metadata": {
        "id": "view-in-github",
        "colab_type": "text"
      },
      "source": [
        "<a href=\"https://colab.research.google.com/github/mathriddle/ColabTurtlePlus/blob/main/examples/files/IFSTurtleGraphics.ipynb\" target=\"_parent\"><img src=\"https://colab.research.google.com/assets/colab-badge.svg\" alt=\"Open In Colab\"/></a>"
      ]
    },
    {
      "cell_type": "markdown",
      "metadata": {
        "id": "sTTBkX7WSASE"
      },
      "source": [
        "Larry Riddle, Agnes Scott College\n",
        "\n",
        "The L-system code used is adapted from https://github.com/ambron60/l-system-drawing/blob/master/lsystem.py by Gianni Perez. This version is specifically for L-systems used to generate fractals of iterated function systems. ColabTurtlePlus is an extension of the original ColabTurtle by Tolga Atam.  "
      ]
    },
    {
      "cell_type": "code",
      "metadata": {
        "id": "4V_4NGuBO6Yq"
      },
      "source": [
        "!pip3 install git+https://github.com/mathriddle/ColabTurtlePlus.git@main"
      ],
      "execution_count": null,
      "outputs": []
    },
    {
      "cell_type": "code",
      "metadata": {
        "id": "NyOxVHEb0Epw"
      },
      "source": [
        "import ColabTurtlePlus.Turtle as T\n",
        "import re"
      ],
      "execution_count": 3,
      "outputs": []
    },
    {
      "cell_type": "markdown",
      "metadata": {
        "id": "LMcvCl6UlprS"
      },
      "source": [
        "The following section should not need to be edited (unless you want to reorder the kolors that are used in the drawing.)"
      ]
    },
    {
      "cell_type": "code",
      "metadata": {
        "id": "jVSQ59aHm9PB"
      },
      "source": [
        "def derivation(axiom, steps):\n",
        "    axiom = \"\".join(axiom.split())\n",
        "    derived = [axiom]  \n",
        "    for _ in range(steps):\n",
        "        next_seq = derived[-1]\n",
        "        next_axiom = [srule(char) for char in next_seq]\n",
        "        derived.append(''.join(next_axiom))\n",
        "    s = re.sub('[^FGRLf+\\-\\[\\]c]',\"\",derived[-1])  # remove extraneous symbols in sequence\n",
        "    while s.find(\"+-\")+s.find(\"-+\") > -2:              # cancel +- and -+ terms\n",
        "        s=s.replace(\"+-\",\"\").replace(\"-+\",\"\")\n",
        "    return s\n",
        "\n",
        "def srule(sequence):\n",
        "    if sequence in SYSTEM_RULES:\n",
        "        return SYSTEM_RULES[sequence]\n",
        "    return sequence\n",
        "\n",
        "def draw_l_system(turtle, lsystem, seg_length, init_pos, angle, init_heading, fill=False):\n",
        "    turtle.up()\n",
        "    turtle.goto(init_pos)\n",
        "    turtle.pendown()\n",
        "    turtle.setheading(init_heading) \n",
        "    stack = []\n",
        "    kolors = [\"black\",\"red\",\"DarkGreen\",\"blue\",\"DarkOrange\"]\n",
        "    curKolor = 0\n",
        "    turtle.pencolor(kolors[curKolor])\n",
        "    if fill: turtle.begin_fill()\n",
        "    for command in lsystem:\n",
        "        if command in [\"F\", \"G\", \"R\", \"L\"]:\n",
        "            turtle.forward(seg_length)\n",
        "        elif command == \"f\":\n",
        "            turtle.penup()  \n",
        "            turtle.forward(seg_length)\n",
        "            turtle.pendown()\n",
        "        elif command == \"+\":\n",
        "            turtle.left(angle)\n",
        "        elif command == \"-\":\n",
        "            turtle.right(angle)\n",
        "        elif command == \"[\":\n",
        "            stack.append((turtle.position(), turtle.heading()))\n",
        "        elif command == \"]\":\n",
        "            turtle.penup()  \n",
        "            position, heading = stack.pop()\n",
        "            turtle.goto(position)\n",
        "            turtle.setheading(heading)\n",
        "            turtle.pendown()\n",
        "        elif command == \"c\":  #used with axiom when multiple copies of fractal are drawn\n",
        "            curKolor = (curKolor+1) % len(kolors)\n",
        "            turtle.color(kolors[curKolor])\n",
        "    if fill: turtle.end_fill()"
      ],
      "execution_count": 4,
      "outputs": []
    },
    {
      "cell_type": "markdown",
      "metadata": {
        "id": "1fikvHZFk8BI"
      },
      "source": [
        "In the next section, add the L-system rules. Edit num_rules for the number of rules, then enter each rule as a string. Include the -> in the rule."
      ]
    },
    {
      "cell_type": "code",
      "metadata": {
        "id": "knkmab5eoR-n"
      },
      "source": [
        "SYSTEM_RULES = {}  # generator system rules for l-system\n",
        "num_rules = 1\n",
        "rules = [\"\"]*num_rules\n",
        "# List the rules as strings with index starting at 0. Include ->\n",
        "rules[0] = \"F -> F+F-F-F+F\"\n",
        "\n",
        "for n in range(num_rules):\n",
        "  rule = \"\".join(rules[n].split())\n",
        "  key, value = rule.split(\"->\")\n",
        "  SYSTEM_RULES[key] = value\n"
      ],
      "execution_count": 5,
      "outputs": []
    },
    {
      "cell_type": "markdown",
      "metadata": {
        "id": "fxsk1FamlTEC"
      },
      "source": [
        "In the next section, add the axiom and angle for the L-system. Also give the scaling factor for the iterated function system. This should be between 0 and 1 for a contracting IFS."
      ]
    },
    {
      "cell_type": "code",
      "metadata": {
        "id": "NhW1cztNpMMK"
      },
      "source": [
        "axiom =\"F\"\n",
        "angle = 120\n",
        "scaling = 0.5"
      ],
      "execution_count": 6,
      "outputs": []
    },
    {
      "cell_type": "markdown",
      "metadata": {
        "id": "g_vpA3T2lkCg"
      },
      "source": [
        "Specify the scales for the x-axis and y-axis for graphics window, and the size of the graphic window (in pixels). The window will be configured to keep the proper aspect ratio between the axes and the window size."
      ]
    },
    {
      "cell_type": "code",
      "metadata": {
        "id": "E38g4OsyQdD2"
      },
      "source": [
        "# Set up graphics window\n",
        "xmin,xmax = -0.05,1.05\n",
        "ymin,ymax = -0.05,0.9\n",
        "init_pos = (0,0)\n",
        "direction = 0\n",
        "wsize = 300"
      ],
      "execution_count": 7,
      "outputs": []
    },
    {
      "cell_type": "markdown",
      "metadata": {
        "id": "R3C3Pc4ppvle"
      },
      "source": [
        "When setting up the turtle graphics, you can specify whether or not to show a border around the window, the turtle shape to use, the pen size, and the turtle speed. A speed of 0 shows no animation and is the quickest. Set fill to True if you want the image to be filled in the color specified by fillcolor.   \n",
        "\n",
        "Finally, give the number of iterations and the initial direction for the L-system. "
      ]
    },
    {
      "cell_type": "code",
      "metadata": {
        "id": "rjhUYJ5QpoEY"
      },
      "source": [
        "# initialize turtle graphics\n",
        "T.resetwindow()\n",
        "T.setworldcoordinates(xmin,ymin,xmax,ymax)\n",
        "T.initializeTurtle(window=(wsize,wsize))\n",
        "T.showborder()\n",
        "T.speed(8)\n",
        "T.shape('turtle2')\n",
        "T.width(1)\n",
        "T.fillcolor(\"light gray\")\n",
        "fill = False  #specifies if turtle graphics is filled at end\n",
        "\n",
        "# Generate L-system and draw\n",
        "\n",
        "iterations = 2\n",
        "\n",
        "model = derivation(axiom, iterations)\n",
        "segment_length = scaling**iterations\n",
        "draw_l_system(T, model, segment_length, init_pos, angle, direction, fill)  \n",
        "T.done() \n",
        "#T.saveSVG(\"myfile\")"
      ],
      "execution_count": null,
      "outputs": []
    }
  ]
}