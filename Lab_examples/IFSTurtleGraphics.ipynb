{
  "nbformat": 4,
  "nbformat_minor": 0,
  "metadata": {
    "colab": {
      "name": "IFSTurtleGraphics.ipynb",
      "provenance": [],
      "collapsed_sections": [],
      "authorship_tag": "ABX9TyOtwm3u2KZs+H34E1bx2+7O",
      "include_colab_link": true
    },
    "kernelspec": {
      "name": "python3",
      "display_name": "Python 3"
    }
  },
  "cells": [
    {
      "cell_type": "markdown",
      "metadata": {
        "id": "view-in-github",
        "colab_type": "text"
      },
      "source": [
        "<a href=\"https://colab.research.google.com/github/mathriddle/ColabTurtlePlus/blob/main/Lab_examples/IFSTurtleGraphics.ipynb\" target=\"_parent\"><img src=\"https://colab.research.google.com/assets/colab-badge.svg\" alt=\"Open In Colab\"/></a>"
      ]
    },
    {
      "cell_type": "markdown",
      "metadata": {
        "id": "sTTBkX7WSASE"
      },
      "source": [
        "The L-system code used is adapted from https://github.com/ambron60/l-system-drawing/blob/master/lsystem.py by Gianni Perez. This version is specifically for L-systems used to generate fractals of iterated function systems.\n",
        "\n",
        "The install command below is needed to use turtle graphics in Colab.   "
      ]
    },
    {
      "cell_type": "code",
      "metadata": {
        "id": "4V_4NGuBO6Yq"
      },
      "source": [
        "!pip3 install git+https://github.com/mathriddle/ColabTurtlePlus.git@main"
      ],
      "execution_count": null,
      "outputs": []
    },
    {
      "cell_type": "code",
      "metadata": {
        "id": "NyOxVHEb0Epw"
      },
      "source": [
        "import ColabTurtlePlus.Turtle as T"
      ],
      "execution_count": 2,
      "outputs": []
    },
    {
      "cell_type": "code",
      "metadata": {
        "id": "jVSQ59aHm9PB"
      },
      "source": [
        "def derivation(axiom, steps):\n",
        "    derived = [axiom]  \n",
        "    for _ in range(steps):\n",
        "        next_seq = derived[-1]\n",
        "        next_axiom = [srule(char) for char in next_seq]\n",
        "        derived.append(''.join(next_axiom))\n",
        "    return derived\n",
        "\n",
        "def srule(sequence):\n",
        "    if sequence in SYSTEM_RULES:\n",
        "        return SYSTEM_RULES[sequence]\n",
        "    return sequence\n",
        "\n",
        "def draw_l_system(turtle, SYSTEM_RULES, seg_length, init_pos, angle, init_heading, fill=False):\n",
        "    turtle.up()\n",
        "    turtle.hideturtle()\n",
        "    turtle.goto(init_pos)\n",
        "    turtle.pendown()\n",
        "    turtle.setheading(init_heading)  # initial heading \n",
        "    turtle.showturtle()  \n",
        "    stack = []\n",
        "    kolors = [\"black\",\"red\",\"DarkGreen\",\"blue\",\"DarkOrange\"]\n",
        "    curKolor = 0\n",
        "    turtle.pencolor(kolors[curKolor])\n",
        "    if fill: turtle.begin_fill()\n",
        "    for command in SYSTEM_RULES:\n",
        "        if command in [\"F\", \"G\", \"R\", \"L\"]:\n",
        "            turtle.forward(seg_length)\n",
        "        elif command == \"f\":\n",
        "            turtle.penup()  # pen up - not drawing\n",
        "            turtle.forward(seg_length)\n",
        "            turtle.pendown()\n",
        "        elif command == \"+\":\n",
        "            turtle.left(angle)\n",
        "        elif command == \"-\":\n",
        "            turtle.right(angle)\n",
        "        elif command == \"[\":\n",
        "            stack.append((turtle.position(), turtle.heading()))\n",
        "        elif command == \"]\":\n",
        "            turtle.penup()  # pen up - not drawing\n",
        "            position, heading = stack.pop()\n",
        "            turtle.goto(position)\n",
        "            turtle.setheading(heading)\n",
        "            turtle.pendown()\n",
        "        elif command == \"c\":  #used with axiom when multiple copies of fractal are drawn\n",
        "            curKolor = (curKolor+1) % len(kolors)\n",
        "            turtle.color(kolors[curKolor])\n",
        "    if fill: turtle.end_fill()\n"
      ],
      "execution_count": 3,
      "outputs": []
    },
    {
      "cell_type": "code",
      "metadata": {
        "id": "knkmab5eoR-n"
      },
      "source": [
        "SYSTEM_RULES = {}  # generator system rules for l-system\n",
        "num_rules = 1\n",
        "rules = [\"\"]*num_rules\n",
        "# List the rules as strings with index starting at 0. Include ->\n",
        "rules[0] = \"F -> F+F-F-F+F\"\n",
        "\n",
        "for n in range(num_rules):\n",
        "  rule = \"\".join(rules[n].split())\n",
        "  key, value = rule.split(\"->\")\n",
        "  SYSTEM_RULES[key] = value"
      ],
      "execution_count": 4,
      "outputs": []
    },
    {
      "cell_type": "code",
      "metadata": {
        "id": "NhW1cztNpMMK"
      },
      "source": [
        "axiom =\"F\"\n",
        "axiom = \"\".join(axiom.split())\n",
        "angle = 120\n",
        "scaling = 0.5\n"
      ],
      "execution_count": 5,
      "outputs": []
    },
    {
      "cell_type": "code",
      "metadata": {
        "id": "E38g4OsyQdD2"
      },
      "source": [
        "# Set up graphics window\n",
        "xmin,xmax = -0.05,1.05\n",
        "ymin,ymax = -0.05,0.9\n",
        "init_pos = (0,0)\n",
        "wsize = 300\n",
        "if ymax-ymin > xmax-xmin:\n",
        "  ysize = wsize\n",
        "  xsize = round((xmax-xmin)/(ymax-ymin)*wsize)\n",
        "else:\n",
        "  xsize = wsize\n",
        "  ysize = round((ymax-ymin)/(xmax-xmin)*wsize)\n",
        "\n",
        "# initialize turtle graphics\n",
        "T.initializeTurtle(speed=0,window=(xsize,ysize))\n",
        "T.ht()\n",
        "T.showborder()\n",
        "T.setworldcoordinates(xmin,ymin,xmax,ymax)\n",
        "T.shape('turtle2')\n",
        "T.width(1)\n",
        "T.fillcolor(\"light gray\")\n",
        "fill = False  #specifies if turtle graphics is filled at end\n",
        "T.st()\n",
        "\n",
        "# Generate L-system and draw\n",
        "iterations = 4\n",
        "direction = 0\n",
        "model = derivation(axiom, iterations)  # axiom (initial string), nth iterations\n",
        "segment_length = scaling**iterations\n",
        "draw_l_system(T, model[-1], segment_length, init_pos, angle, direction, fill)\n",
        "T.ht()  \n",
        "T.done() \n",
        "T.saveSVG(\"Sierpinski\")"
      ],
      "execution_count": null,
      "outputs": []
    }
  ]
}