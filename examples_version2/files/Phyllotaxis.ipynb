{
  "nbformat": 4,
  "nbformat_minor": 0,
  "metadata": {
    "colab": {
      "name": "Phyllotaxis.ipynb",
      "provenance": [],
      "authorship_tag": "ABX9TyOHWilIiN/IqRN78SKMWu9b",
      "include_colab_link": true
    },
    "kernelspec": {
      "name": "python3",
      "display_name": "Python 3"
    },
    "language_info": {
      "name": "python"
    }
  },
  "cells": [
    {
      "cell_type": "markdown",
      "metadata": {
        "id": "view-in-github",
        "colab_type": "text"
      },
      "source": [
        "<a href=\"https://colab.research.google.com/github/mathriddle/ColabTurtlePlus/blob/main/examples_version2/files/Phyllotaxis.ipynb\" target=\"_parent\"><img src=\"https://colab.research.google.com/assets/colab-badge.svg\" alt=\"Open In Colab\"/></a>"
      ]
    },
    {
      "cell_type": "markdown",
      "metadata": {
        "id": "jhNRCCHqTigU"
      },
      "source": [
        "Sunflower with a phyllotactic pattern by Deborah R. Fowler  \n",
        "Modified from  \n",
        "http://www.deborahrfowler.com/PythonResources/PythonTurtle.html  \n",
        "and  \n",
        "https://www.geeksforgeeks.org/algorithmic-botany-phyllotaxis-python/"
      ]
    },
    {
      "cell_type": "code",
      "metadata": {
        "id": "eenGZDQGvXci"
      },
      "source": [
        "!pip install ColabTurtlePlus"
      ],
      "execution_count": null,
      "outputs": []
    },
    {
      "cell_type": "code",
      "metadata": {
        "id": "3PTOZSyyvdAn"
      },
      "source": [
        "from ColabTurtlePlus.Turtle import *"
      ],
      "execution_count": 1,
      "outputs": []
    },
    {
      "cell_type": "code",
      "metadata": {
        "id": "Js2FWGAzvr7B"
      },
      "source": [
        "import math\t\n",
        "\n",
        "def drawPhyllPattern(turtle, numseeds, numpetals, angle, cspread):\n",
        "\t\"\"\"print a pattern of circles using spiral phyllotactic data\"\"\"\n",
        "\t# initialize position\n",
        "\tturtle.color('black')\n",
        "\tturtle.fillcolor(\"orange\")\n",
        "\tphi = angle * ( math.pi / 180.0 ) \n",
        "\txcenter = 0.0\n",
        "\tycenter = 0.0\n",
        "\t\n",
        "\tfor n in range(numseeds+numpetals):\n",
        "\t\tr = cspread * math.sqrt(n)\n",
        "\t\ttheta = n * phi\n",
        "\t\t\n",
        "\t\tx = r * math.cos(theta) + xcenter\n",
        "\t\ty = r * math.sin(theta) + ycenter\n",
        "\n",
        "\t\t# move the turtle to that position and draw\n",
        "\t\tturtle.up()\n",
        "\t\tturtle.setpos(x, y)\n",
        "\t\tturtle.down()\n",
        "\t\t# orient the turtle correctly\n",
        "\t\tturtle.setheading(n * angle)\n",
        "\t\tif n < numseeds:\n",
        "\t\t\tturtle.stamp()\n",
        "\t\telse:\n",
        "\t\t\tdrawPetal(turtle)\n",
        "\n",
        "def drawPetal(turtle):\n",
        "\tturtle.color('black')\n",
        "\tturtle.fillcolor('yellow')\n",
        "\tturtle.begin_fill()\n",
        "\tturtle.right(20)\n",
        "\tturtle.forward(70)\n",
        "\tturtle.left(40)\n",
        "\tturtle.forward(70)\n",
        "\tturtle.left(140)\n",
        "\tturtle.forward(70)\n",
        "\tturtle.left(40)\n",
        "\tturtle.forward(70)\n",
        "\tturtle.end_fill()\n",
        "\tturtle.penup()"
      ],
      "execution_count": 21,
      "outputs": []
    },
    {
      "cell_type": "code",
      "metadata": {
        "id": "jxoIO15xv9Ug"
      },
      "source": [
        "clearscreen()\n",
        "setup(450,450)\n",
        "bgcolor('green')\n",
        "gfg = Turtle()\n",
        "gfg.speed(0) # make the turtle go as fast as possible\n",
        "gfg.shape(\"turtle2\")\n",
        "drawPhyllPattern(gfg, 165, 35, 137.508, 5)\n",
        "gfg.ht()\n",
        "gfg.done()\n",
        "saveSVG(\"phyllotaxis\")"
      ],
      "execution_count": null,
      "outputs": []
    }
  ]
}