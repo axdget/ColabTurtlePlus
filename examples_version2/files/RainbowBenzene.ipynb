{
  "nbformat": 4,
  "nbformat_minor": 0,
  "metadata": {
    "colab": {
      "name": "RainbowBenzene.ipynb",
      "provenance": [],
      "collapsed_sections": [],
      "authorship_tag": "ABX9TyMlVLlVbBQS2YA+g3szZk7+",
      "include_colab_link": true
    },
    "kernelspec": {
      "name": "python3",
      "display_name": "Python 3"
    },
    "language_info": {
      "name": "python"
    }
  },
  "cells": [
    {
      "cell_type": "markdown",
      "metadata": {
        "id": "view-in-github",
        "colab_type": "text"
      },
      "source": [
        "<a href=\"https://colab.research.google.com/github/mathriddle/ColabTurtlePlus/blob/main/examples_version2/files/RainbowBenzene.ipynb\" target=\"_parent\"><img src=\"https://colab.research.google.com/assets/colab-badge.svg\" alt=\"Open In Colab\"/></a>"
      ]
    },
    {
      "cell_type": "markdown",
      "metadata": {
        "id": "0Z5NLBg9nCnh"
      },
      "source": [
        "Rainbow Benzene example from an article contributed by Amartya Ranjan Saikiafrom to the website https://www.geeksforgeeks.org/turtle-programming-python/"
      ]
    },
    {
      "cell_type": "code",
      "metadata": {
        "id": "ra0F5vQiUCYI"
      },
      "source": [
        "!pip install ColabTurtlePlus"
      ],
      "execution_count": null,
      "outputs": []
    },
    {
      "cell_type": "code",
      "metadata": {
        "id": "459SLvYpUExW"
      },
      "source": [
        "from ColabTurtlePlus.Turtle import *"
      ],
      "execution_count": 2,
      "outputs": []
    },
    {
      "cell_type": "code",
      "metadata": {
        "id": "xvmSRjQVUDvd"
      },
      "source": [
        "clearscreen()\n",
        "setup(400,400)\n",
        "colors = ['red', 'purple', 'blue', 'green', 'orange', 'yellow']\n",
        "t = Turtle()\n",
        "t.speed(13)\n",
        "bgcolor('black')\n",
        "for x in range(360):\n",
        "\tt.pencolor(colors[x%6])\n",
        "\tt.width(x//200 + 1)\n",
        "\tt.forward(x/2)\n",
        "\tt.left(59)\n",
        "t.ht()\n",
        "t.done()\n",
        "saveSVG()\n",
        "\n"
      ],
      "execution_count": null,
      "outputs": []
    }
  ]
}