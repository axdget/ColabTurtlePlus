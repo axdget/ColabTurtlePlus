{
  "nbformat": 4,
  "nbformat_minor": 0,
  "metadata": {
    "colab": {
      "name": "SimplePlot.ipynb",
      "provenance": [],
      "collapsed_sections": [],
      "authorship_tag": "ABX9TyNL5t5hVcY1cCKOn29G04mh",
      "include_colab_link": true
    },
    "kernelspec": {
      "name": "python3",
      "display_name": "Python 3"
    },
    "language_info": {
      "name": "python"
    }
  },
  "cells": [
    {
      "cell_type": "markdown",
      "metadata": {
        "id": "view-in-github",
        "colab_type": "text"
      },
      "source": [
        "<a href=\"https://colab.research.google.com/github/mathriddle/ColabTurtlePlus/blob/main/examples_version2/files/SimplePlot.ipynb\" target=\"_parent\"><img src=\"https://colab.research.google.com/assets/colab-badge.svg\" alt=\"Open In Colab\"/></a>"
      ]
    },
    {
      "cell_type": "markdown",
      "metadata": {
        "id": "i1lIpBaqETXf"
      },
      "source": [
        "A simple plotting demo. (There are, of course, much better packages available for drawing plots!)"
      ]
    },
    {
      "cell_type": "code",
      "metadata": {
        "id": "aCiFiC5td1tn"
      },
      "source": [
        "!pip install ColabTurtlePlus"
      ],
      "execution_count": null,
      "outputs": []
    },
    {
      "cell_type": "code",
      "metadata": {
        "id": "LeEER7d9MeYM"
      },
      "source": [
        "from ColabTurtlePlus.Turtle import *\n",
        "import math"
      ],
      "execution_count": null,
      "outputs": []
    },
    {
      "cell_type": "code",
      "metadata": {
        "id": "ZNbmrFkgd_dI"
      },
      "source": [
        "clearscreen()\n",
        "N = 10\n",
        "setup(800,400)\n",
        "setworldcoordinates(-N,-2,N,2, aspect=False) #set aspect=True for equal scale on axes.\n",
        "drawline(-N,0,N,0)\n",
        "drawline(0,-2,0,2)\n",
        "T = Turtle()\n",
        "T.animationOff()\n",
        "T.hideturtle()\n",
        "T.speed(12)\n",
        "T.jumpto(-N,math.cos(-N))\n",
        "for x in range(0,2*N*10):\n",
        "  T.goto(-N+x/10,math.cos(-N+x/10))\n",
        "\n"
      ],
      "execution_count": null,
      "outputs": []
    }
  ]
}