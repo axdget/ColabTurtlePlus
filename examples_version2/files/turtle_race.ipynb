{
  "nbformat": 4,
  "nbformat_minor": 0,
  "metadata": {
    "colab": {
      "name": "turtle_race.ipynb",
      "provenance": [],
      "authorship_tag": "ABX9TyMTVk69k+LXpgOsBSMs2nkc",
      "include_colab_link": true
    },
    "kernelspec": {
      "name": "python3",
      "display_name": "Python 3"
    },
    "language_info": {
      "name": "python"
    }
  },
  "cells": [
    {
      "cell_type": "markdown",
      "metadata": {
        "id": "view-in-github",
        "colab_type": "text"
      },
      "source": [
        "<a href=\"https://colab.research.google.com/github/mathriddle/ColabTurtlePlus/blob/main/examples_version2/files/turtle_race.ipynb\" target=\"_parent\"><img src=\"https://colab.research.google.com/assets/colab-badge.svg\" alt=\"Open In Colab\"/></a>"
      ]
    },
    {
      "cell_type": "markdown",
      "metadata": {
        "id": "aGtnVjLI1Iox"
      },
      "source": [
        "Modified code based on the Turtle Race tutorial in the following YouTube videos from Geek Tutorials.\n",
        "\n",
        "Part 1: https://www.youtube.com/watch?v=tXH-cY7N5bg\n",
        "\n",
        "Part 2: https://www.youtube.com/watch?v=hxbEubm1yQo"
      ]
    },
    {
      "cell_type": "code",
      "metadata": {
        "id": "JtNF6Gg1jT1I"
      },
      "source": [
        "!pip install ColabTurtlePlus"
      ],
      "execution_count": null,
      "outputs": []
    },
    {
      "cell_type": "code",
      "metadata": {
        "id": "cUVXqcjfjYQ0"
      },
      "source": [
        "from ColabTurtlePlus.Turtle import *\n",
        "import random\n",
        "from time import sleep"
      ],
      "execution_count": 11,
      "outputs": []
    },
    {
      "cell_type": "code",
      "metadata": {
        "id": "E_CbT7ScPlOP"
      },
      "source": [
        "# Screen setup\n",
        "clearscreen()\n",
        "setup(800,500)\n",
        "bgcolor(\"forestgreen\")\n",
        "speed(0)  # Turn off drawings until done()\n",
        "\n",
        "# Heading\n",
        "penup()\n",
        "goto(0,215)\n",
        "color(\"white\")\n",
        "write(\"TURTLE RACE\", align=\"center\", font=(\"arial\", 20, \"bold\"))\n",
        "\n",
        "# Dirt\n",
        "goto(-350,200)\n",
        "pendown()\n",
        "color(\"saddlebrown\")\n",
        "begin_fill()\n",
        "for i in range(2):\n",
        "  forward(700)\n",
        "  right(90)\n",
        "  forward(400)\n",
        "  right(90)\n",
        "end_fill()\n",
        "\n",
        "# Finish Line\n",
        "gap_size = 20\n",
        "shape(\"square\")\n",
        "penup()\n",
        "color(\"white\")\n",
        "for i in range(10):\n",
        "  goto(250,(170-(i*gap_size*2)))\n",
        "  stamp(layer=1)\n",
        "for i in range(10):\n",
        "  goto(250+gap_size,(210-gap_size-(i*gap_size*2)))\n",
        "  stamp(layer=1)\n",
        "color(\"black\")\n",
        "for i in range(10):\n",
        "  goto(250,(190-(i*gap_size*2)))\n",
        "  stamp(layer=1)\n",
        "for i in range(10):\n",
        "  goto(251+gap_size,(190-gap_size-(i*gap_size*2)))\n",
        "  stamp(layer=1)\n",
        "done()\n",
        "\n",
        "# Create the racing turtles\n",
        "turtles = [Turtle(), Turtle(), Turtle(), Turtle()]\n",
        "for i in range(4): turtles[i].hideturtle()\n",
        "colors = [\"cyan\", \"magenta\", \"yellow\", \"lime\"]\n",
        "for i in range(4):\n",
        "  turtles[i].shape(\"turtle2\")  \n",
        "  turtles[i].color(colors[i])\n",
        "  turtles[i].shapesize(1.5)\n",
        "  turtles[i].speed(10)\n",
        "  turtles[i].showturtle()\n",
        "  turtles[i].penup()\n",
        "  turtles[i].goto(-300,150-100*i)\n",
        "  turtles[i].pendown()\n",
        "\n",
        "# Pause for 1 second before starting race\n",
        "time.sleep(1)\n",
        "\n",
        "# The race\n",
        "random.seed()\n",
        "positions = [turtles[i].xcor() for i in range(4)]\n",
        "while max(positions) <= 230:\n",
        "  turtles[0].forward(random.randint(1,10))\n",
        "  turtles[1].forward(random.randint(1,10))\n",
        "  turtles[2].forward(random.randint(1,10))\n",
        "  turtles[3].forward(random.randint(1,10))\n",
        "  positions = [turtles[i].xcor() for i in range(4)]\n",
        "\n",
        "# Determine the winner with possibility of a tie\n",
        "win_pos = max(positions)\n",
        "winners = [i for i, j in enumerate(positions) if j == win_pos]\n",
        "for k in winners:\n",
        "  turtles[k].speed(5)\n",
        "  turtles[k].left(360)\n",
        "\n",
        "# Print message about who won\n",
        "hideturtle()\n",
        "color(\"white\")\n",
        "goto(0, -235)\n",
        "if len(winners)==1:\n",
        "  write(\"Turtle \"+colors[winners[0]]+\" won!\", align=\"center\", font=(\"Arial\", 20, \"bold\"))\n",
        "else:\n",
        "  s = colors[winners[0]]\n",
        "  for k in range(1,len(winners)):\n",
        "    s += \" and \" + colors[winners[k]]\n",
        "  write(\"Turtles \"+s+ \" tied!\", align=\"center\", font=(\"Arial\", 20, \"bold\"))\n",
        "done()\n",
        "\n",
        "# Print the final positions for each turtle\n",
        "pad = max([len(s) for s in colors])+10\n",
        "for k in range(4):\n",
        "  print((\"turtle \"+colors[k]).ljust(pad), int(positions[k]))"
      ],
      "execution_count": null,
      "outputs": []
    }
  ]
}