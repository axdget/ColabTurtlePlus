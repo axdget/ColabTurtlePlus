{
  "nbformat": 4,
  "nbformat_minor": 0,
  "metadata": {
    "colab": {
      "name": "TurtleStar-class.ipynb",
      "provenance": [],
      "collapsed_sections": [],
      "authorship_tag": "ABX9TyO2y/wHr/Dvq4WHpKksXanG",
      "include_colab_link": true
    },
    "kernelspec": {
      "name": "python3",
      "display_name": "Python 3"
    },
    "language_info": {
      "name": "python"
    }
  },
  "cells": [
    {
      "cell_type": "markdown",
      "metadata": {
        "id": "view-in-github",
        "colab_type": "text"
      },
      "source": [
        "<a href=\"https://colab.research.google.com/github/mathriddle/ColabTurtlePlus/blob/class/examples_version2/files/TurtleStar.ipynb\" target=\"_parent\"><img src=\"https://colab.research.google.com/assets/colab-badge.svg\" alt=\"Open In Colab\"/></a>"
      ]
    },
    {
      "cell_type": "markdown",
      "metadata": {
        "id": "sHKa108RxMd-"
      },
      "source": [
        "The star program from the turtle.py documentation. This version draws the star twice using two turtles. The first uses the evenodd fillrule and the second uses the nonzero fillrule."
      ]
    },
    {
      "cell_type": "code",
      "metadata": {
        "id": "lDDzZPYZQNXn"
      },
      "source": [
        "!pip install ColabTurtlePlus"
      ],
      "execution_count": null,
      "outputs": []
    },
    {
      "cell_type": "code",
      "metadata": {
        "id": "_TU-pGItQOJi"
      },
      "source": [
        "from ColabTurtlePlus.Turtle import *\n",
        "clearscreen()\n",
        "setup(500,300)\n",
        "T = Turtle()\n",
        "T.color('red', 'yellow')\n",
        "T.speed(13)\n",
        "T.width(1.5)\n",
        "S = T.clone()\n",
        "T.fillrule(\"evenodd\")\n",
        "S.fillrule(\"nonzero\")\n",
        "x0 = -225\n",
        "T.jumpto(x0,0)\n",
        "S.jumpto(25,0)\n",
        "T.begin_fill()\n",
        "S.begin_fill()\n",
        "while True:\n",
        "    T.forward(200)\n",
        "    T.left(170)\n",
        "    S.forward(200)\n",
        "    S.left(170)\n",
        "    if (T.getx()-x0)**2 + T.gety()**2 < 1:\n",
        "        break\n",
        "T.end_fill()\n",
        "S.end_fill()\n"
      ],
      "execution_count": null,
      "outputs": []
    }
  ]
}