{
  "nbformat": 4,
  "nbformat_minor": 0,
  "metadata": {
    "colab": {
      "name": "chaos.ipynb",
      "provenance": [],
      "collapsed_sections": [],
      "authorship_tag": "ABX9TyPd4OLrM7mz4444c+l3y3qL",
      "include_colab_link": true
    },
    "kernelspec": {
      "name": "python3",
      "display_name": "Python 3"
    },
    "language_info": {
      "name": "python"
    }
  },
  "cells": [
    {
      "cell_type": "markdown",
      "metadata": {
        "id": "view-in-github",
        "colab_type": "text"
      },
      "source": [
        "<a href=\"https://colab.research.google.com/github/mathriddle/ColabTurtlePlus/blob/class/examples_version2/files/chaos.ipynb\" target=\"_parent\"><img src=\"https://colab.research.google.com/assets/colab-badge.svg\" alt=\"Open In Colab\"/></a>"
      ]
    },
    {
      "cell_type": "markdown",
      "metadata": {
        "id": "Yl4nIYSr_o_Y"
      },
      "source": [
        "tdemo_chaos.py demo from the turtledemo package in python installation.\n",
        "\n",
        "Author: Gregor Lingl,\n",
        "Date: 2009-06-24\n",
        "\n",
        "A demonstrationn of chaos. The functions f, g, and h are identical, just written differently. Each function is iterated a certain number of times starting with the same initial point. After enough iterations, the values of the three functions will start to differ."
      ]
    },
    {
      "cell_type": "code",
      "metadata": {
        "id": "JOLIrFj8w4x1"
      },
      "source": [
        "!pip install ColabTurtlePlus"
      ],
      "execution_count": null,
      "outputs": []
    },
    {
      "cell_type": "code",
      "metadata": {
        "id": "Ai7Bljof_MrS"
      },
      "source": [
        "from ColabTurtlePlus.Turtle import *"
      ],
      "execution_count": 2,
      "outputs": []
    },
    {
      "cell_type": "code",
      "metadata": {
        "id": "T0j-Ktn-6G8Q"
      },
      "source": [
        "N = 80\n",
        "\n",
        "def f(x):\n",
        "    return 3.9*x*(1-x)\n",
        "\n",
        "def g(x):\n",
        "    return 3.9*(x-x**2)\n",
        "\n",
        "def h(x):\n",
        "    return 3.9*x-3.9*x*x\n",
        "\n",
        "def coosys():\n",
        "    line(-1, 0, N+1, 0)\n",
        "    line(0, -0.1, 0, 1.1)\n",
        "\n",
        "def plot(fun, start, color):\n",
        "    pencolor(color)\n",
        "    x = start\n",
        "    jumpto(0, x)\n",
        "    pendown()\n",
        "    dot(5)\n",
        "    for i in range(N):\n",
        "        x=fun(x)\n",
        "        goto(i+1,x)\n",
        "        dot(5)"
      ],
      "execution_count": 3,
      "outputs": []
    },
    {
      "cell_type": "code",
      "metadata": {
        "id": "hpnvJSn0xBiU"
      },
      "source": [
        "clearscreen()\n",
        "setworldcoordinates(-1.0,-0.1, N+1, 1.1)\n",
        "hideturtle()\n",
        "animationOff()\n",
        "speed(13)\n",
        "coosys()\n",
        "plot(f, 0.35, \"blue\")\n",
        "plot(g, 0.35, \"green\")\n",
        "plot(h, 0.35, \"red\")\n"
      ],
      "execution_count": null,
      "outputs": []
    }
  ]
}