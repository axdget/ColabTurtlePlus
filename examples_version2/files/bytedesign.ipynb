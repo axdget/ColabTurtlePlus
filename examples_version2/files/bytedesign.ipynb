{
  "nbformat": 4,
  "nbformat_minor": 0,
  "metadata": {
    "colab": {
      "name": "bytedesign-class.ipynb",
      "provenance": [],
      "collapsed_sections": [],
      "authorship_tag": "ABX9TyOaPSU025TOja/o7ipWnyC1",
      "include_colab_link": true
    },
    "kernelspec": {
      "display_name": "Python 3",
      "name": "python3"
    },
    "language_info": {
      "name": "python"
    }
  },
  "cells": [
    {
      "cell_type": "markdown",
      "metadata": {
        "id": "view-in-github",
        "colab_type": "text"
      },
      "source": [
        "<a href=\"https://colab.research.google.com/github/mathriddle/ColabTurtlePlus/blob/class/examples_version2/files/bytedesign.ipynb\" target=\"_parent\"><img src=\"https://colab.research.google.com/assets/colab-badge.svg\" alt=\"Open In Colab\"/></a>"
      ]
    },
    {
      "cell_type": "markdown",
      "metadata": {
        "id": "MEStFEAoR_zh"
      },
      "source": [
        "bytedesign demo from the turtledemo package in python installation.\n",
        "\n",
        "An example adapted from the example-suite\n",
        "of PythonCard's turtle graphics.\n",
        "\n",
        "It's based on an article in BYTE magazine\n",
        "\"<a href=\"https://archive.org/details/byte-magazine-1982-11/page/n119/mode/2up\">Problem Solving with Logo: Using Turtle\n",
        "Graphics to Redraw a Design</a>\",\n",
        "November 1982, p. 120-139\n",
        "\n",
        "Setting speed(0) turns off all animations and drawing until the command done() is executed, thus greatly speeding up the drawing. If you want to watch the actual drawing process, change speed(0) to speed(13)."
      ]
    },
    {
      "cell_type": "code",
      "metadata": {
        "id": "O4-nIAT23P6M"
      },
      "source": [
        "!pip install ColabTurtlePlus"
      ],
      "execution_count": null,
      "outputs": []
    },
    {
      "cell_type": "code",
      "metadata": {
        "id": "GGA_s5jt3QmW"
      },
      "source": [
        "def design(homePos, scale):\n",
        "    t.up()\n",
        "    for i in range(5):\n",
        "        t.forward(64.65 * scale)\n",
        "        t.down()\n",
        "        wheel(t.position(), scale)\n",
        "        t.up()\n",
        "        t.backward(64.65 * scale)\n",
        "        t.right(72)\n",
        "    t.up()\n",
        "    t.goto(homePos)\n",
        "    t.right(36)\n",
        "    t.forward(24.5 * scale)\n",
        "    t.right(198)\n",
        "    t.down()\n",
        "    centerpiece(46 * scale, 143.4, scale)\n",
        "    t.done()\n",
        "\n",
        "def wheel(initpos, scale):\n",
        "    t.right(54)\n",
        "    for i in range(4):\n",
        "        pentpiece(initpos, scale)\n",
        "    t.down()\n",
        "    t.left(36)\n",
        "    for i in range(5):\n",
        "        tripiece(initpos, scale)\n",
        "    t.left(36)\n",
        "    for i in range(5):\n",
        "        t.down()\n",
        "        t.right(72)\n",
        "        t.forward(28 * scale)\n",
        "        t.up()\n",
        "        t.backward(28 * scale)\n",
        "    t.left(54)\n",
        "    t.done()\n",
        "\n",
        "def tripiece(initpos, scale):\n",
        "    oldh = t.heading()\n",
        "    t.down()\n",
        "    t.backward(2.5 * scale)\n",
        "    tripolyr(31.5 * scale, scale)\n",
        "    t.up()\n",
        "    t.goto(initpos)\n",
        "    t.setheading(oldh)\n",
        "    t.down()\n",
        "    t.backward(2.5 * scale)\n",
        "    tripolyl(31.5 * scale, scale)\n",
        "    t.up()\n",
        "    t.goto(initpos)\n",
        "    t.setheading(oldh)\n",
        "    t.left(72)\n",
        "    t.done()\n",
        "\n",
        "def pentpiece(initpos, scale):\n",
        "    oldh = t.heading()\n",
        "    t.up()\n",
        "    t.forward(29 * scale)\n",
        "    t.down()\n",
        "    for i in range(5):\n",
        "        t.forward(18 * scale)\n",
        "        t.right(72)\n",
        "    pentr(18 * scale, 75, scale)\n",
        "    t.up()\n",
        "    t.goto(initpos)\n",
        "    t.setheading(oldh)\n",
        "    t.forward(29 * scale)\n",
        "    t.down()\n",
        "    for i in range(5):\n",
        "        t.forward(18 * scale)\n",
        "        t.right(72)\n",
        "    pentl(18 * scale, 75, scale)\n",
        "    t.up()\n",
        "    t.goto(initpos)\n",
        "    t.setheading(oldh)\n",
        "    t.left(72)\n",
        "    t.done()\n",
        "\n",
        "def pentl(side, ang, scale):\n",
        "    if side < (2 * scale): return\n",
        "    t.forward(side)\n",
        "    t.left(ang)\n",
        "    pentl(side - (.38 * scale), ang, scale)\n",
        "\n",
        "def pentr(side, ang, scale):\n",
        "    if side < (2 * scale): return\n",
        "    t.forward(side)\n",
        "    t.right(ang)\n",
        "    pentr(side - (.38 * scale), ang, scale)\n",
        "\n",
        "def tripolyr(side, scale):\n",
        "    if side < (4 * scale): return\n",
        "    t.forward(side)\n",
        "    t.right(111)\n",
        "    t.forward(side / 1.78)\n",
        "    t.right(111)\n",
        "    t.forward(side / 1.3)\n",
        "    t.right(146)\n",
        "    tripolyr(side * .75, scale)\n",
        "\n",
        "def tripolyl(side, scale):\n",
        "    if side < (4 * scale): return\n",
        "    t.forward(side)\n",
        "    t.left(111)\n",
        "    t.forward(side / 1.78)\n",
        "    t.left(111)\n",
        "    t.forward(side / 1.3)\n",
        "    t.left(146)\n",
        "    tripolyl(side * .75, scale)\n",
        "\n",
        "def centerpiece(s, a, scale):\n",
        "    t.forward(s); t.left(a)\n",
        "    if s < (7.5 * scale):\n",
        "        return\n",
        "    centerpiece(s - (1.2 * scale), a, scale)"
      ],
      "execution_count": null,
      "outputs": []
    },
    {
      "cell_type": "code",
      "metadata": {
        "id": "Cnu4NsOC3jqw"
      },
      "source": [
        "from ColabTurtlePlus.Turtle import *\n",
        "clearscreen()\n",
        "setup(550,550)\n",
        "showborder()\n",
        "t = Turtle()\n",
        "t.animationOff()\n",
        "t.speed(0)\n",
        "t.hideturtle()\n",
        "design(t.position(), 2)\n",
        "t.done()\n",
        "saveSVG(\"bytedesign\")"
      ],
      "execution_count": null,
      "outputs": []
    }
  ]
}