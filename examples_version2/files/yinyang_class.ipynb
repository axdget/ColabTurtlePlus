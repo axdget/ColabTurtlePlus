{
  "nbformat": 4,
  "nbformat_minor": 0,
  "metadata": {
    "colab": {
      "name": "yinyang-class.ipynb",
      "provenance": [],
      "collapsed_sections": [],
      "authorship_tag": "ABX9TyN5ABUoVWKhI8EjybFsXw4S",
      "include_colab_link": true
    },
    "kernelspec": {
      "name": "python3",
      "display_name": "Python 3"
    },
    "language_info": {
      "name": "python"
    }
  },
  "cells": [
    {
      "cell_type": "markdown",
      "metadata": {
        "id": "view-in-github",
        "colab_type": "text"
      },
      "source": [
        "<a href=\"https://colab.research.google.com/github/mathriddle/ColabTurtlePlus/blob/class/examples_version2/files/yinyang_class.ipynb\" target=\"_parent\"><img src=\"https://colab.research.google.com/assets/colab-badge.svg\" alt=\"Open In Colab\"/></a>"
      ]
    },
    {
      "cell_type": "markdown",
      "metadata": {
        "id": "ya39lKvZfW9r"
      },
      "source": [
        "Yinyang demo from the turtledemo package in python installation"
      ]
    },
    {
      "cell_type": "code",
      "metadata": {
        "id": "07WhgSGYb3QG",
        "colab": {
          "base_uri": "https://localhost:8080/"
        },
        "outputId": "f8bb3dd2-b029-4fb3-ced9-490fff95422c"
      },
      "source": [
        "!pip install ColabTurtlePlus"
      ],
      "execution_count": null,
      "outputs": [
        {
          "output_type": "stream",
          "name": "stdout",
          "text": [
            "Collecting ColabTurtlePlus\n",
            "  Downloading ColabTurtlePlus-1.5-py3-none-any.whl (28 kB)\n",
            "Installing collected packages: ColabTurtlePlus\n",
            "Successfully installed ColabTurtlePlus-1.5\n"
          ]
        }
      ]
    },
    {
      "cell_type": "code",
      "metadata": {
        "id": "oPN6jdVWb4Gk"
      },
      "source": [
        "def yin(radius, color1, color2):\n",
        "    width(3)\n",
        "    pencolor(\"black\")\n",
        "    fillcolor(color1)\n",
        "    begin_fill()\n",
        "    circle(radius/2., 180)\n",
        "    circle(radius, 180)\n",
        "    left(180)\n",
        "    circle(-radius/2., 180)\n",
        "    end_fill()\n",
        "    fillcolor(color2)\n",
        "    left(90)\n",
        "    up()\n",
        "    forward(radius*0.375)\n",
        "    right(90)\n",
        "    down()\n",
        "    begin_fill()\n",
        "    circle(radius*0.125)\n",
        "    left(90)\n",
        "    end_fill()\n",
        "    up()\n",
        "    backward(radius*0.375)\n",
        "    down()\n",
        "    left(90)"
      ],
      "execution_count": null,
      "outputs": []
    },
    {
      "cell_type": "code",
      "metadata": {
        "id": "Kq1FPyksb5GM"
      },
      "source": [
        "from ColabTurtlePlus.Turtle import *\n",
        "reset()\n",
        "yin(200, \"white\", \"black\")\n",
        "yin(200, \"black\", \"white\")\n",
        "ht()"
      ],
      "execution_count": null,
      "outputs": []
    }
  ]
}