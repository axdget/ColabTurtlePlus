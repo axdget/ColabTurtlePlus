{
  "nbformat": 4,
  "nbformat_minor": 0,
  "metadata": {
    "colab": {
      "provenance": [],
      "authorship_tag": "ABX9TyNJQ73ww/o87q4NHmij2XAj",
      "include_colab_link": true
    },
    "kernelspec": {
      "name": "python3",
      "display_name": "Python 3"
    }
  },
  "cells": [
    {
      "cell_type": "markdown",
      "metadata": {
        "id": "view-in-github",
        "colab_type": "text"
      },
      "source": [
        "<a href=\"https://colab.research.google.com/github/mathriddle/ColabTurtlePlus/blob/main/examples-Lsystems/files/Koch_snowflake_with_Sier_Triangle.ipynb\" target=\"_parent\"><img src=\"https://colab.research.google.com/assets/colab-badge.svg\" alt=\"Open In Colab\"/></a>"
      ]
    },
    {
      "cell_type": "markdown",
      "metadata": {
        "id": "sTTBkX7WSASE"
      },
      "source": [
        "Larry Riddle, Agnes Scott College \\\n",
        "https://larryriddle.agnesscott.org/ifs/ifs.htm\n",
        "\n",
        "The L-system code used is adapted from https://github.com/ambron60/l-system-drawing/blob/master/lsystem.py by Gianni Perez. This version is specifically for L-systems used to generate fractals of iterated function systems. ColabTurtlePlus is an extension of the original ColabTurtle by Tolga Atam.  "
      ]
    },
    {
      "cell_type": "code",
      "metadata": {
        "id": "4V_4NGuBO6Yq"
      },
      "source": [
        "!pip install ColabTurtlePlus"
      ],
      "execution_count": null,
      "outputs": []
    },
    {
      "cell_type": "code",
      "metadata": {
        "id": "NyOxVHEb0Epw",
        "colab": {
          "base_uri": "https://localhost:8080/"
        },
        "outputId": "d4c2a646-36d9-4a61-bd73-0b76d3e38b4a"
      },
      "source": [
        "from ColabTurtlePlus.Turtle import *\n",
        "import re"
      ],
      "execution_count": null,
      "outputs": [
        {
          "output_type": "stream",
          "name": "stdout",
          "text": [
            "Put clearscreen() as the first line in a cell (after the import command) to re-run turtle commands in the cell\n"
          ]
        }
      ]
    },
    {
      "cell_type": "markdown",
      "metadata": {
        "id": "LMcvCl6UlprS"
      },
      "source": [
        "The following section should not need to be edited (unless you want to reorder the kolors that are used in the drawing.)"
      ]
    },
    {
      "cell_type": "code",
      "metadata": {
        "id": "jVSQ59aHm9PB"
      },
      "source": [
        "kolors = [\"black\",\"red\",\"darkgreen\",\"blue\",\"DarkOrange\"]\n",
        "\n",
        "def derivation(axiom, steps):\n",
        "    axiom = \"\".join(axiom.split())\n",
        "    derived = [axiom]  \n",
        "    for _ in range(steps):\n",
        "        next_seq = derived[-1]\n",
        "        next_axiom = [srule(char) for char in next_seq]\n",
        "        derived.append(''.join(next_axiom))\n",
        "    s = re.sub('[^FGRLf+\\-\\[\\]c]',\"\",derived[-1])  # remove extraneous symbols in sequence\n",
        "    while s.find(\"+-\")+s.find(\"-+\") > -2:              # cancel +- and -+ terms\n",
        "        s=s.replace(\"+-\",\"\").replace(\"-+\",\"\")\n",
        "    return s\n",
        "\n",
        "def srule(sequence):\n",
        "    if sequence in SYSTEM_RULES:\n",
        "        return SYSTEM_RULES[sequence]\n",
        "    return sequence\n",
        "\n",
        "def draw_l_system(turtle, lsystem, seg_length, init_pos, angle, init_heading, fill=False):\n",
        "    turtle.jumpto(init_pos)\n",
        "    turtle.setheading(init_heading) \n",
        "    stack = []\n",
        "    curKolor = 0\n",
        "    if fill: turtle.begin_fill()\n",
        "    for command in lsystem:\n",
        "        if command in [\"F\", \"G\", \"R\", \"L\"]:\n",
        "            turtle.forward(seg_length)\n",
        "        elif command == \"f\":\n",
        "            turtle.penup()  \n",
        "            turtle.forward(seg_length)\n",
        "            turtle.pendown()\n",
        "        elif command == \"+\":\n",
        "            turtle.left(angle)\n",
        "        elif command == \"-\":\n",
        "            turtle.right(angle)\n",
        "        elif command == \"[\":\n",
        "            stack.append((turtle.position(), turtle.heading()))\n",
        "        elif command == \"]\":\n",
        "            turtle.penup()  \n",
        "            position, heading = stack.pop()\n",
        "            turtle.goto(position)\n",
        "            turtle.setheading(heading)\n",
        "            turtle.pendown()\n",
        "        elif command == \"c\":  #used with axiom when multiple copies of fractal are drawn\n",
        "            curKolor = (curKolor+1) % len(kolors)\n",
        "            turtle.pencolor(kolors[curKolor])\n",
        "    if fill: turtle.end_fill()"
      ],
      "execution_count": null,
      "outputs": []
    },
    {
      "cell_type": "markdown",
      "metadata": {
        "id": "g_vpA3T2lkCg"
      },
      "source": [
        "Specify the scales for the x-axis and y-axis for graphics window, and the size of the graphic window (in pixels). The window will be configured to keep the proper aspect ratio between the axes and the window size."
      ]
    },
    {
      "cell_type": "code",
      "metadata": {
        "id": "E38g4OsyQdD2"
      },
      "source": [
        "# Set up graphics window\n",
        "xmin,xmax = -0.1,1.1\n",
        "ymin,ymax = -0.3,0.9\n",
        "init_pos = (0,0)\n",
        "direction =0\n",
        "wsize = 500"
      ],
      "execution_count": null,
      "outputs": []
    },
    {
      "cell_type": "markdown",
      "metadata": {
        "id": "R3C3Pc4ppvle"
      },
      "source": [
        "When setting up the turtle graphics, you can specify whether or not to show a border around the window, the turtle shape to use, the pen size, pen color, and the turtle speed. A speed of 0 shows no animation and is the quickest. Set fill to True if you want the image to be filled in the color specified by fillcolor.   \n",
        "\n",
        "Finally, give the number of iterations for the L-system. "
      ]
    },
    {
      "cell_type": "code",
      "metadata": {
        "id": "rjhUYJ5QpoEY"
      },
      "source": [
        "# initialize turtle graphics\n",
        "\n",
        "clearscreen()\n",
        "T = Turtle()\n",
        "setup(wsize,wsize)\n",
        "setworldcoordinates(xmin,ymin,xmax,ymax, aspect=True)\n",
        "hideborder()\n",
        "bgcolor(\"white\")\n",
        "T.speed(0)\n",
        "T.shape('turtle2')\n",
        "T.width(2)\n",
        "T.pencolor(\"black\")\n",
        "T.fillcolor(\"gold\")\n",
        "fill = True  #specifies if turtle graphics is filled at end\n",
        "\n",
        "# Generate L-system and draw\n",
        "\n",
        "iterations = 5\n",
        "T.ht()\n",
        "\n",
        "# Koch snowflake\n",
        "SYSTEM_RULES = {}  # generator system rules for l-system\n",
        "num_rules = 1\n",
        "rules = [\"\"]*num_rules\n",
        "# List the rules as strings with index starting at 0. Include ->\n",
        "rules[0] = \"F -> F-F++F-F\"\n",
        "\n",
        "for n in range(num_rules):\n",
        "  rule = \"\".join(rules[n].split())\n",
        "  key, value = rule.split(\"->\")\n",
        "  SYSTEM_RULES[key] = value\n",
        "axiom =\"cF++cF++cF\"\n",
        "angle = 60\n",
        "scaling = 0.33333333\n",
        "model = derivation(axiom, iterations)\n",
        "segment_length = scaling**iterations\n",
        "T.fillopacity(.5)\n",
        "draw_l_system(T, model, segment_length, init_pos, angle, direction, True) \n",
        "draw_l_system(T, model, segment_length, init_pos, angle, direction, False) \n",
        "\n",
        "# Draw the interior equilateral triangle\n",
        "T.width(1)\n",
        "T.home()\n",
        "T.pencolor(\"red\")\n",
        "T.forward(1)\n",
        "T.left(120)\n",
        "T.pencolor(\"darkgreen\")\n",
        "T.forward(1)\n",
        "T.left(120)\n",
        "T.pencolor(\"blue\")\n",
        "T.forward(1)\n",
        "\n",
        "# Sierpinski triangle\n",
        "SYSTEM_RULES = {}  # generator system rules for l-system\n",
        "num_rules = 1\n",
        "rules = [\"\"]*num_rules\n",
        "# List the rules as strings with index starting at 0. Include ->\n",
        "rules[0] = \"F->F+F-F-F+F\"\n",
        "\n",
        "for n in range(num_rules):\n",
        "  rule = \"\".join(rules[n].split())\n",
        "  key, value = rule.split(\"->\")\n",
        "  SYSTEM_RULES[key] = value\n",
        "axiom =\"F\"\n",
        "angle = 120\n",
        "scaling = 0.5\n",
        "T.pencolor(\"black\")\n",
        "model = derivation(axiom, iterations)\n",
        "segment_length = scaling**iterations\n",
        "draw_l_system(T, model, segment_length, init_pos, angle, direction, False)\n",
        "T.done() \n",
        "saveSVG(\"Snowflake-Siertriangle11\")"
      ],
      "execution_count": null,
      "outputs": []
    },
    {
      "cell_type": "code",
      "metadata": {
        "id": "_nM2IO3ovP1S"
      },
      "source": [],
      "execution_count": null,
      "outputs": []
    }
  ]
}